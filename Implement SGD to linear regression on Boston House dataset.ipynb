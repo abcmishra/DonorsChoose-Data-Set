{
 "cells": [
  {
   "cell_type": "markdown",
   "metadata": {},
   "source": [
    "# Objective:-Implement SGD on Linear Regression"
   ]
  },
  {
   "cell_type": "markdown",
   "metadata": {},
   "source": [
    "# Boston House Dataset"
   ]
  },
  {
   "cell_type": "code",
   "execution_count": 1,
   "metadata": {
    "colab": {},
    "colab_type": "code",
    "id": "tjYfZhzRqZSp",
    "outputId": "068c526b-e364-4be6-f824-dddaa2548704"
   },
   "outputs": [],
   "source": [
    "import warnings\n",
    "warnings.filterwarnings('ignore')\n",
    "import numpy as np\n",
    "from sklearn.preprocessing import StandardScaler\n",
    "import seaborn as sns\n",
    "import numpy as np\n",
    "from sklearn.linear_model import SGDRegressor\n",
    "from sklearn.metrics import mean_squared_error\n",
    "import matplotlib.pyplot as plt\n",
    "%matplotlib inline\n"
   ]
  },
  {
   "cell_type": "markdown",
   "metadata": {
    "colab_type": "text",
    "id": "zi2pT6JWqZSy"
   },
   "source": [
    "## 1.1 Reading Data"
   ]
  },
  {
   "cell_type": "code",
   "execution_count": 2,
   "metadata": {
    "colab": {},
    "colab_type": "code",
    "id": "WxeGo31xqZS0"
   },
   "outputs": [],
   "source": [
    "# loading boston datasets\n",
    "from sklearn.datasets import load_boston\n",
    "import pandas as pd\n",
    "boston_house_dataset=load_boston()"
   ]
  },
  {
   "cell_type": "code",
   "execution_count": 3,
   "metadata": {
    "colab": {},
    "colab_type": "code",
    "id": "nelgsmJsqZS4",
    "outputId": "6c41079c-39d5-43f6-e614-343984ff422c"
   },
   "outputs": [],
   "source": [
    "# spliting the data into train and test\n",
    "from sklearn.model_selection import train_test_split\n",
    "pd_boston_house_dataset=pd.DataFrame(data=boston_house_dataset.data)\n",
    "price_boston=boston_house_dataset.target\n",
    "X_train, X_test, y_train, y_test=train_test_split(pd_boston_house_dataset, price_boston, test_size=0.33, random_state=5)"
   ]
  },
  {
   "cell_type": "code",
   "execution_count": 4,
   "metadata": {
    "colab": {},
    "colab_type": "code",
    "id": "ML-rGngcqZS-",
    "outputId": "680f4762-64e7-446f-e33f-b7636dcbe1e2"
   },
   "outputs": [],
   "source": [
    "# applying column standardization on train and test data\n",
    "\n",
    "Standarising_data=StandardScaler()\n",
    "X_train=Standarising_data.fit_transform(np.array(X_train))\n",
    "X_test=Standarising_data.transform(np.array(X_test))"
   ]
  },
  {
   "cell_type": "markdown",
   "metadata": {},
   "source": [
    "# preparing training data for manual sgd regressor"
   ]
  },
  {
   "cell_type": "code",
   "execution_count": 5,
   "metadata": {},
   "outputs": [],
   "source": [
    "\n",
    "sgd_train_data_dataframe=pd.DataFrame(X_train)\n",
    "sgd_train_data_dataframe['price_boston']=y_train"
   ]
  },
  {
   "cell_type": "code",
   "execution_count": 6,
   "metadata": {
    "colab": {},
    "colab_type": "code",
    "id": "Vwo5BXTgqZTF"
   },
   "outputs": [
    {
     "data": {
      "text/html": [
       "<div>\n",
       "<style scoped>\n",
       "    .dataframe tbody tr th:only-of-type {\n",
       "        vertical-align: middle;\n",
       "    }\n",
       "\n",
       "    .dataframe tbody tr th {\n",
       "        vertical-align: top;\n",
       "    }\n",
       "\n",
       "    .dataframe thead th {\n",
       "        text-align: right;\n",
       "    }\n",
       "</style>\n",
       "<table border=\"1\" class=\"dataframe\">\n",
       "  <thead>\n",
       "    <tr style=\"text-align: right;\">\n",
       "      <th></th>\n",
       "      <th>0</th>\n",
       "      <th>1</th>\n",
       "      <th>2</th>\n",
       "      <th>3</th>\n",
       "      <th>4</th>\n",
       "      <th>5</th>\n",
       "      <th>6</th>\n",
       "      <th>7</th>\n",
       "      <th>8</th>\n",
       "      <th>9</th>\n",
       "      <th>10</th>\n",
       "      <th>11</th>\n",
       "      <th>12</th>\n",
       "      <th>price_boston</th>\n",
       "    </tr>\n",
       "  </thead>\n",
       "  <tbody>\n",
       "    <tr>\n",
       "      <th>0</th>\n",
       "      <td>0.911839</td>\n",
       "      <td>-0.502419</td>\n",
       "      <td>1.072305</td>\n",
       "      <td>-0.256978</td>\n",
       "      <td>1.633548</td>\n",
       "      <td>0.486034</td>\n",
       "      <td>0.962774</td>\n",
       "      <td>-0.823477</td>\n",
       "      <td>1.655334</td>\n",
       "      <td>1.552100</td>\n",
       "      <td>0.808078</td>\n",
       "      <td>-2.842959</td>\n",
       "      <td>1.523203</td>\n",
       "      <td>13.4</td>\n",
       "    </tr>\n",
       "    <tr>\n",
       "      <th>1</th>\n",
       "      <td>-0.411727</td>\n",
       "      <td>-0.502419</td>\n",
       "      <td>-1.129795</td>\n",
       "      <td>-0.256978</td>\n",
       "      <td>-0.552451</td>\n",
       "      <td>1.028078</td>\n",
       "      <td>0.668619</td>\n",
       "      <td>-0.183274</td>\n",
       "      <td>-0.871371</td>\n",
       "      <td>-0.802704</td>\n",
       "      <td>-0.304174</td>\n",
       "      <td>0.427436</td>\n",
       "      <td>-0.995240</td>\n",
       "      <td>23.6</td>\n",
       "    </tr>\n",
       "    <tr>\n",
       "      <th>2</th>\n",
       "      <td>0.124583</td>\n",
       "      <td>-0.502419</td>\n",
       "      <td>1.072305</td>\n",
       "      <td>-0.256978</td>\n",
       "      <td>1.441946</td>\n",
       "      <td>-3.913414</td>\n",
       "      <td>0.725324</td>\n",
       "      <td>-1.075955</td>\n",
       "      <td>1.655334</td>\n",
       "      <td>1.552100</td>\n",
       "      <td>0.808078</td>\n",
       "      <td>-0.053353</td>\n",
       "      <td>-0.765646</td>\n",
       "      <td>27.5</td>\n",
       "    </tr>\n",
       "    <tr>\n",
       "      <th>3</th>\n",
       "      <td>-0.406208</td>\n",
       "      <td>0.839388</td>\n",
       "      <td>-0.901940</td>\n",
       "      <td>-0.256978</td>\n",
       "      <td>-1.083710</td>\n",
       "      <td>0.097426</td>\n",
       "      <td>-0.515087</td>\n",
       "      <td>1.600509</td>\n",
       "      <td>-0.411970</td>\n",
       "      <td>-0.624310</td>\n",
       "      <td>-0.860301</td>\n",
       "      <td>0.152292</td>\n",
       "      <td>-0.184576</td>\n",
       "      <td>22.2</td>\n",
       "    </tr>\n",
       "    <tr>\n",
       "      <th>4</th>\n",
       "      <td>0.021742</td>\n",
       "      <td>-0.502419</td>\n",
       "      <td>1.072305</td>\n",
       "      <td>-0.256978</td>\n",
       "      <td>1.398401</td>\n",
       "      <td>0.123238</td>\n",
       "      <td>0.743044</td>\n",
       "      <td>-0.605107</td>\n",
       "      <td>1.655334</td>\n",
       "      <td>1.552100</td>\n",
       "      <td>0.808078</td>\n",
       "      <td>0.365116</td>\n",
       "      <td>0.301538</td>\n",
       "      <td>17.7</td>\n",
       "    </tr>\n",
       "  </tbody>\n",
       "</table>\n",
       "</div>"
      ],
      "text/plain": [
       "          0         1         2         3         4         5         6  \\\n",
       "0  0.911839 -0.502419  1.072305 -0.256978  1.633548  0.486034  0.962774   \n",
       "1 -0.411727 -0.502419 -1.129795 -0.256978 -0.552451  1.028078  0.668619   \n",
       "2  0.124583 -0.502419  1.072305 -0.256978  1.441946 -3.913414  0.725324   \n",
       "3 -0.406208  0.839388 -0.901940 -0.256978 -1.083710  0.097426 -0.515087   \n",
       "4  0.021742 -0.502419  1.072305 -0.256978  1.398401  0.123238  0.743044   \n",
       "\n",
       "          7         8         9        10        11        12  price_boston  \n",
       "0 -0.823477  1.655334  1.552100  0.808078 -2.842959  1.523203          13.4  \n",
       "1 -0.183274 -0.871371 -0.802704 -0.304174  0.427436 -0.995240          23.6  \n",
       "2 -1.075955  1.655334  1.552100  0.808078 -0.053353 -0.765646          27.5  \n",
       "3  1.600509 -0.411970 -0.624310 -0.860301  0.152292 -0.184576          22.2  \n",
       "4 -0.605107  1.655334  1.552100  0.808078  0.365116  0.301538          17.7  "
      ]
     },
     "execution_count": 6,
     "metadata": {},
     "output_type": "execute_result"
    }
   ],
   "source": [
    "sgd_train_data_dataframe.head()"
   ]
  },
  {
   "cell_type": "code",
   "execution_count": 37,
   "metadata": {
    "colab": {},
    "colab_type": "code",
    "id": "fE6oDYNNqZTK"
   },
   "outputs": [],
   "source": [
    "# converting to numpy array, which will be available for both SGDRegressor of sklearn and own  sgd regressor\n",
    "X_test=np.array(X_test)\n",
    "y_test=np.array(y_test)\n",
    "bias_diff=[]\n",
    "weight_num=[]"
   ]
  },
  {
   "cell_type": "markdown",
   "metadata": {
    "colab": {},
    "colab_type": "code",
    "id": "GXLQ6u1LqZTS",
    "outputId": "a02b4b1d-e051-4c64-e771-2588ac9c37c0"
   },
   "source": [
    "# In this case learning rate is 0.01 and it is fixed and number of iterations are changed"
   ]
  },
  {
   "cell_type": "code",
   "execution_count": 39,
   "metadata": {},
   "outputs": [
    {
     "data": {
      "text/plain": [
       "(167,)"
      ]
     },
     "execution_count": 39,
     "metadata": {},
     "output_type": "execute_result"
    }
   ],
   "source": [
    "y_test.shape"
   ]
  },
  {
   "cell_type": "code",
   "execution_count": 42,
   "metadata": {
    "colab": {},
    "colab_type": "code",
    "id": "QgQT_L8gqZTY",
    "outputId": "cb60d8f2-f368-4f46-82a4-0db4387e9ba2"
   },
   "outputs": [],
   "source": [
    "import warnings\n",
    "warnings.filterwarnings('ignore')\n",
    "#this particular function is basically used for sklearn Sgd regressor and predict thee price of the boston house dataset\n",
    "def scikitlearn_sgd_regressor(alpha, lr_rate_variation, eta0=0.01, power_t=0.25, n_iter=100, train_data_scikit=X_train, test_data_scikit=X_test, train_y_scikit=y_train, test_y_scikit=y_test):\n",
    "    clf_scikit=SGDRegressor(alpha=alpha, penalty=None, learning_rate=lr_rate_variation, eta0=eta0, power_t=power_t, n_iter=n_iter)\n",
    "    clf_scikit.fit(train_data_scikit, train_y_scikit)\n",
    "    y_pred_scikit=clf_scikit.predict(test_data_scikit)\n",
    "    \n",
    "    #scatter plot\n",
    "    plt.scatter(test_y_scikit,y_pred_scikit)\n",
    "    plt.title('Plot between predicted and actual')\n",
    "    plt.xlabel('actual y')\n",
    "    plt.ylabel('predicted y')\n",
    "    plt.grid(b=True, linewidth=0.5)\n",
    "    plt.show()\n",
    "    print('***********************************************************')\n",
    "    \n",
    "    #kdeplot\n",
    "    \n",
    "       \n",
    "    sgd_error=mean_squared_error(y_test,y_pred_scikit)\n",
    "    print('Mean squared Error=', sgd_error)\n",
    "    print('Number of iterations=', n_iter)\n",
    "    \n",
    "    return clf_scikit.coef_, clf_scikit.intercept_, sgd_error"
   ]
  },
  {
   "cell_type": "code",
   "execution_count": 43,
   "metadata": {
    "colab": {},
    "colab_type": "code",
    "id": "Yy1YXIFAqZTb"
   },
   "outputs": [
    {
     "data": {
      "image/png": "[encoded data removed]",
      "text/plain": [
       "<Figure size 432x288 with 1 Axes>"
      ]
     },
     "metadata": {},
     "output_type": "display_data"
    },
    {
     "name": "stdout",
     "output_type": "stream",
     "text": [
      "***********************************************************\n",
      "Mean squared Error= 33.82334366972888\n",
      "Number of iterations= 1\n"
     ]
    }
   ],
   "source": [
    "weight_sgd, bias_sgd, error_sgd=scikitlearn_sgd_regressor(alpha=0.001, lr_rate_variation='constant', eta0=0.01, n_iter=1)"
   ]
  },
  {
   "cell_type": "code",
   "execution_count": 45,
   "metadata": {},
   "outputs": [],
   "source": [
    "# the below function is a simple implementation of sgd to linear regression, here we didn't use any regularization"
   ]
  },
  {
   "cell_type": "code",
   "execution_count": 46,
   "metadata": {
    "colab": {},
    "colab_type": "code",
    "id": "rtkYrVpbqZTh",
    "outputId": "b9804255-87c8-4ff5-eb3c-8913b8b81dfa"
   },
   "outputs": [],
   "source": [
    "#the below function is for applying sgd to linear regression given that we are not using any regularisation term\n",
    "#the batch size taken for this function is 10\n",
    "#here the learning rate is constant and invscaling learning rate\n",
    "#the below function function for sgd returns weight and bias\n",
    "\n",
    "def manual_sgd_regressor(X, learning_rate_variation, alpha=0.0001, learning_rate=0.01, power_t=0.25, n_iterations=100):\n",
    "    weight_new=np.zeros(shape=(1,13))\n",
    "    bias_new=0\n",
    "    t=1\n",
    "    r=learning_rate\n",
    "    \n",
    "    while(t<=n_iterations):\n",
    "        weight_old=weight_new\n",
    "        bias_old=bias_new\n",
    "        weight_=np.zeros(shape=(1,13))\n",
    "        bias_=0\n",
    "        x_data_sgd=X.sample(10)\n",
    "        x=np.array(x_data_sgd.drop('price_boston',axis=1))\n",
    "        y=np.array(x_data_sgd['price_boston'])\n",
    "        \n",
    "        \n",
    "        for i in range(10):  # for getting the derivatives using sgd with k=10\n",
    "            y_curr=np.dot(weight_old,x[i])+bias_old\n",
    "            weight_+=x[i] * (y[i] - y_curr)\n",
    "            bias_+=(y[i]-y_curr)\n",
    "            \n",
    "            \n",
    "        weight_*=(-2/x.shape[0])\n",
    "        bias_*=(-2/x.shape[0])\n",
    "        \n",
    "        #updating the parameters\n",
    "        weight_new=(weight_old-r*weight_)\n",
    "        bias_new=(bias_old-r*bias_)\n",
    "        \n",
    "        \n",
    "        if(learning_rate_variation=='invscaling'):\n",
    "            r = learning_rate / pow(t, power_t)\n",
    "        t+=1\n",
    "        \n",
    "    return weight_new, bias_new\n",
    "\n",
    "\n",
    "\n"
   ]
  },
  {
   "cell_type": "code",
   "execution_count": 47,
   "metadata": {},
   "outputs": [],
   "source": [
    "#the given below function for predicting the values\n",
    "def pred(x,w, b):\n",
    "    y_pred_for_sgd=[]\n",
    "    for i in range(len(x)):\n",
    "        y=np.asscalar(np.dot(w,x[i])+b)\n",
    "        y_pred_for_sgd.append(y)\n",
    "    return np.array(y_pred_for_sgd)\n",
    "\n",
    "\n"
   ]
  },
  {
   "cell_type": "code",
   "execution_count": 48,
   "metadata": {},
   "outputs": [],
   "source": [
    "#the below function is used for scatter plot between the actual and predicted values\n",
    "def plot_(test_data,y_pred_sgd):\n",
    "    #scatter plot\n",
    "    plt.scatter(y_test,y_pred_sgd)\n",
    "    plt.grid(b=True, linewidth=0.3)\n",
    "    plt.title('scatter plot between actual y and predicted y')\n",
    "    plt.xlabel('actual y')\n",
    "    plt.ylabel('predicted y')\n",
    "    plt.show()\n",
    "    \n",
    "    manual_error_for_sgd=mean_squared_error(y_test,y_pred_sgd)\n",
    "    print('error_for_sgd=',manual_error_for_sgd)\n",
    "    \n",
    "    return manual_error_for_sgd"
   ]
  },
  {
   "cell_type": "code",
   "execution_count": 49,
   "metadata": {},
   "outputs": [],
   "source": [
    "weight, bias= manual_sgd_regressor(X=sgd_train_data_dataframe, learning_rate_variation='constant' , n_iterations=1)"
   ]
  },
  {
   "cell_type": "code",
   "execution_count": 50,
   "metadata": {},
   "outputs": [],
   "source": [
    "y_pred=pred(X_test, w=weight, b=bias)"
   ]
  },
  {
   "cell_type": "code",
   "execution_count": 51,
   "metadata": {},
   "outputs": [
    {
     "data": {
      "image/png": "[encoded data removed]",
      "text/plain": [
       "<Figure size 432x288 with 1 Axes>"
      ]
     },
     "metadata": {},
     "output_type": "display_data"
    },
    {
     "name": "stdout",
     "output_type": "stream",
     "text": [
      "error_for_sgd= 564.5095918371304\n"
     ]
    }
   ],
   "source": [
    "manual_error=plot_(X_test,y_pred)"
   ]
  },
  {
   "cell_type": "code",
   "execution_count": 53,
   "metadata": {
    "colab": {},
    "colab_type": "code",
    "id": "KpPtM1nzqZTn"
   },
   "outputs": [
    {
     "name": "stdout",
     "output_type": "stream",
     "text": [
      "Sgd weight obtained after using sklearn---\n",
      " [-0.79148586  0.92223233 -0.69056782 -0.06137652 -0.63107871  2.87269428\n",
      " -0.46457071 -1.79285228  0.51973475 -0.83699965 -1.48325205  1.18017094\n",
      " -3.00659016]\n",
      "*********************************************************************************\n",
      "Sgd weight obtained  after manually doing operations---\n",
      " [[-0.14559482  0.21532617 -0.22692589  0.10249754 -0.12194477  0.20748295\n",
      "  -0.18358955  0.14235858 -0.17512968 -0.14047497 -0.37201664 -0.0385428\n",
      "  -0.26382219]]\n"
     ]
    }
   ],
   "source": [
    "print('Sgd weight obtained after using sklearn---\\n',weight_sgd)\n",
    "print('*********************************************************************************')\n",
    "print('Sgd weight obtained  after manually doing operations---\\n',weight)"
   ]
  },
  {
   "cell_type": "code",
   "execution_count": 54,
   "metadata": {
    "colab": {},
    "colab_type": "code",
    "id": "njuMQqQCqZTp",
    "outputId": "7f928915-138f-45b4-c957-d89fb1e4c8b0"
   },
   "outputs": [
    {
     "name": "stdout",
     "output_type": "stream",
     "text": [
      "number of points more than 30% in percent= 13\n"
     ]
    }
   ],
   "source": [
    "#calculating the percentage weight difference between sgd with scikit nd sgd with manual operations\n",
    "percent_diff_in_weights=abs((weight_sgd-weight)/weight)*100\n",
    "cnt=0\n",
    "for i in range(13):\n",
    "    if (percent_diff_in_weights[0][i]>30):\n",
    "        cnt+=1\n",
    "weight_num.append(cnt)\n",
    "print('number of points more than 30% in percent=',cnt)"
   ]
  },
  {
   "cell_type": "code",
   "execution_count": 55,
   "metadata": {
    "colab": {},
    "colab_type": "code",
    "id": "wSNob--uqZTr",
    "outputId": "56eaba11-f9cf-45d7-aebf-1fc4dcf302ff"
   },
   "outputs": [
    {
     "name": "stdout",
     "output_type": "stream",
     "text": [
      "intercept obtained after using scikit= [21.99536431]\n",
      "intercept obtained after manually doing= [0.489]\n"
     ]
    }
   ],
   "source": [
    "#  absolute diffrence in intercept obtained using both manual sgd and sgd using scikit\n",
    "print('intercept obtained after using scikit=',bias_sgd)\n",
    "print('intercept obtained after manually doing=',bias)\n",
    "bias_diff.append(abs(bias_sgd-bias))"
   ]
  },
  {
   "cell_type": "markdown",
   "metadata": {
    "colab": {},
    "colab_type": "code",
    "id": "W642FILFqZTv"
   },
   "source": [
    "# SGDRegressor, n_iterations=100, learnng_rate=0.01, lr_rate_variation='constant'\n"
   ]
  },
  {
   "cell_type": "code",
   "execution_count": 56,
   "metadata": {
    "colab": {},
    "colab_type": "code",
    "id": "xvM9aSXsqZTy",
    "outputId": "3b460e30-bb54-499f-e9c6-932f6425523b"
   },
   "outputs": [
    {
     "data": {
      "image/png": "[encoded data removed]",
      "text/plain": [
       "<Figure size 432x288 with 1 Axes>"
      ]
     },
     "metadata": {},
     "output_type": "display_data"
    },
    {
     "name": "stdout",
     "output_type": "stream",
     "text": [
      "***********************************************************\n",
      "Mean squared Error= 29.561559736490196\n",
      "Number of iterations= 100\n"
     ]
    }
   ],
   "source": [
    "weight_sgd, bias_sgd, error_sgd=scikitlearn_sgd_regressor(alpha=0.0001, lr_rate_variation='constant', eta0=0.01, n_iter=100)\n"
   ]
  },
  {
   "cell_type": "markdown",
   "metadata": {},
   "source": [
    "# manual_sgd_regressor n_iterations=100, learning_rate=0.01, learning_rate_variation='constant"
   ]
  },
  {
   "cell_type": "code",
   "execution_count": 59,
   "metadata": {
    "colab": {},
    "colab_type": "code",
    "id": "c50VoQQWqZT5",
    "outputId": "e47601ed-6586-4f26-ad1e-021f5af9bb36"
   },
   "outputs": [
    {
     "data": {
      "image/png": "[encoded data removed]",
      "text/plain": [
       "<Figure size 432x288 with 1 Axes>"
      ]
     },
     "metadata": {},
     "output_type": "display_data"
    },
    {
     "name": "stdout",
     "output_type": "stream",
     "text": [
      "error_for_sgd= 45.355148417293364\n"
     ]
    }
   ],
   "source": [
    "weight, bias= manual_sgd_regressor(X=sgd_train_data_dataframe, learning_rate_variation='constant' , n_iterations=100)\n",
    "y_pred=pred(X_test, w=weight, b=bias)\n",
    "manual_error=plot_(X_test,y_pred)"
   ]
  },
  {
   "cell_type": "code",
   "execution_count": 62,
   "metadata": {
    "colab": {},
    "colab_type": "code",
    "id": "2lGzozowqZT7"
   },
   "outputs": [
    {
     "name": "stdout",
     "output_type": "stream",
     "text": [
      "wight obtained after using scikit---\n",
      " [-1.34020538  0.87096831 -0.60848435  0.38036348 -1.60130115  2.56877943\n",
      " -0.1723342  -2.78676779  2.92474428 -2.5720708  -2.27686463  0.92054307\n",
      " -3.54269734]\n",
      "*********************************************************************************\n",
      "weight obtained after applying manual sgd regressor---\n",
      " [[-0.78296861  0.30553655 -0.2655976   0.62080668 -0.3010944   2.60324367\n",
      "  -0.87788876 -1.14326842  0.14905891 -0.4684207  -1.55443518  0.94699079\n",
      "  -2.00500764]]\n"
     ]
    }
   ],
   "source": [
    "print('wight obtained after using scikit---\\n',weight_sgd)\n",
    "print('*********************************************************************************')\n",
    "print('weight obtained after applying manual sgd regressor---\\n',weight)"
   ]
  },
  {
   "cell_type": "code",
   "execution_count": 64,
   "metadata": {
    "colab": {},
    "colab_type": "code",
    "id": "pVMMorILqZT9",
    "outputId": "62678d9c-9655-45a0-f5a3-441dd532e35a"
   },
   "outputs": [
    {
     "name": "stdout",
     "output_type": "stream",
     "text": [
      "intercept obtained after using scikit= [22.6556385]\n",
      "intercept obtained after manually doing= [19.38551948]\n"
     ]
    }
   ],
   "source": [
    "#  absolute diffrence in intercept obtained using both manual sgd and sgd using scikit\n",
    "print('intercept obtained after using scikit=',bias_sgd)\n",
    "print('intercept obtained after manually doing=',bias)\n",
    "bias_diff.append(abs(bias_sgd-bias))"
   ]
  },
  {
   "cell_type": "code",
   "execution_count": 66,
   "metadata": {
    "colab": {},
    "colab_type": "code",
    "id": "BsKsNClAqZT_"
   },
   "outputs": [
    {
     "name": "stdout",
     "output_type": "stream",
     "text": [
      "number of points more than 30% in percent= 11\n"
     ]
    }
   ],
   "source": [
    "#calculating the percentage weight difference between sgd with scikit nd sgd with manual operations\n",
    "percent_diff_in_weights=abs((weight_sgd-weight)/weight)*100\n",
    "cnt=0\n",
    "for i in range(13):\n",
    "    if (percent_diff_in_weights[0][i]>30):\n",
    "        cnt+=1\n",
    "weight_num.append(cnt)\n",
    "print('number of points more than 30% in percent=',cnt)"
   ]
  },
  {
   "cell_type": "markdown",
   "metadata": {
    "colab": {},
    "colab_type": "code",
    "id": "XLI2xqC2qZUF"
   },
   "source": [
    "# SGDRegressor, n_iter=1000, lr_rate=0.01, lr_rate_variation='constant'"
   ]
  },
  {
   "cell_type": "code",
   "execution_count": 68,
   "metadata": {
    "colab": {},
    "colab_type": "code",
    "id": "rt9dxvFsqZUH",
    "outputId": "ee6a8152-c0ae-43da-b424-06776b2eca2b",
    "scrolled": true
   },
   "outputs": [
    {
     "data": {
      "image/png": "[encoded data removed]",
      "text/plain": [
       "<Figure size 432x288 with 1 Axes>"
      ]
     },
     "metadata": {},
     "output_type": "display_data"
    },
    {
     "name": "stdout",
     "output_type": "stream",
     "text": [
      "***********************************************************\n",
      "Mean squared Error= 31.41620610663681\n",
      "Number of iterations= 1000\n"
     ]
    }
   ],
   "source": [
    "weight_sgd, bias_sgd, error_sgd=scikitlearn_sgd_regressor(alpha=0.0001, lr_rate_variation='constant', eta0=0.01, n_iter=1000)"
   ]
  },
  {
   "cell_type": "markdown",
   "metadata": {
    "colab": {},
    "colab_type": "code",
    "id": "a50_ayjgqZUL",
    "outputId": "f00b27d7-cbec-4e25-a378-05d27bf43fcc",
    "scrolled": true
   },
   "source": [
    "# manual sgd regressor, n_iter=1000, lr_rate=0.01, lr_rate_variation='constant'"
   ]
  },
  {
   "cell_type": "code",
   "execution_count": 71,
   "metadata": {
    "colab": {},
    "colab_type": "code",
    "id": "NR-8MKrfqZUN"
   },
   "outputs": [
    {
     "data": {
      "image/png": "[encoded data removed]",
      "text/plain": [
       "<Figure size 432x288 with 1 Axes>"
      ]
     },
     "metadata": {},
     "output_type": "display_data"
    },
    {
     "name": "stdout",
     "output_type": "stream",
     "text": [
      "error_for_sgd= 27.579389281762346\n"
     ]
    }
   ],
   "source": [
    "weight, bias= manual_sgd_regressor(X=sgd_train_data_dataframe, learning_rate_variation='constant' , n_iterations=1000)\n",
    "y_pred_manual_sgd=pred(X_test, w=weight, b=bias)\n",
    "manual_error_for_sgd=plot_(X_test,y_pred_manual_sgd)"
   ]
  },
  {
   "cell_type": "code",
   "execution_count": 72,
   "metadata": {
    "colab": {},
    "colab_type": "code",
    "id": "4F7POFL7qZUO"
   },
   "outputs": [
    {
     "name": "stdout",
     "output_type": "stream",
     "text": [
      "wight obtained after using scikit---\n",
      " [-1.47788116  1.03582206 -0.39193463  0.40226966 -1.53772868  2.35869815\n",
      " -0.45177717 -2.79103283  2.77964187 -2.58020213 -1.93513117  1.14294453\n",
      " -3.17914836]\n",
      "*********************************************************************************\n",
      "weight obtained after applying manual sgd regressor---\n",
      " [[-1.14501933  0.88262906 -0.17306226  0.33735027 -1.59287925  2.87923752\n",
      "  -0.29904134 -2.58905919  2.22126307 -1.36547714 -2.19177163  0.86471802\n",
      "  -3.52821694]]\n"
     ]
    }
   ],
   "source": [
    "print('wight obtained after using scikit---\\n',weight_sgd)\n",
    "print('*********************************************************************************')\n",
    "print('weight obtained after applying manual sgd regressor---\\n',weight)"
   ]
  },
  {
   "cell_type": "code",
   "execution_count": 74,
   "metadata": {
    "colab": {},
    "colab_type": "code",
    "id": "e1JdrbGzqZUQ"
   },
   "outputs": [
    {
     "name": "stdout",
     "output_type": "stream",
     "text": [
      "intercept obtained after using scikit= [21.91303995]\n",
      "intercept obtained after manually doing= [22.7078839]\n"
     ]
    }
   ],
   "source": [
    "#  absolute diffrence in intercept obtained using both manual sgd and sgd using scikit\n",
    "print('intercept obtained after using scikit=',bias_sgd)\n",
    "print('intercept obtained after manually doing=',bias)\n",
    "bias_diff.append(abs(bias_sgd-bias))"
   ]
  },
  {
   "cell_type": "code",
   "execution_count": 75,
   "metadata": {
    "colab": {},
    "colab_type": "code",
    "id": "QylmrQoQqZUR",
    "outputId": "1b635e24-72f7-4119-a824-3d78a181d1b0"
   },
   "outputs": [
    {
     "name": "stdout",
     "output_type": "stream",
     "text": [
      "number of points more than 30% in percent= 4\n"
     ]
    }
   ],
   "source": [
    "#calculating the percentage weight difference between sgd with scikit nd sgd with manual operations\n",
    "percent_diff_in_weights=abs((weight_sgd-weight)/weight)*100\n",
    "cnt=0\n",
    "for i in range(13):\n",
    "    if (percent_diff_in_weights[0][i]>30):\n",
    "        cnt+=1\n",
    "weight_num.append(cnt)\n",
    "print('number of points more than 30% in percent=',cnt)"
   ]
  },
  {
   "cell_type": "markdown",
   "metadata": {},
   "source": [
    "# SGDRegressor, n_iter=10000, lr_rate=0.01, lr_rate_variation='constant'"
   ]
  },
  {
   "cell_type": "code",
   "execution_count": 77,
   "metadata": {
    "colab": {},
    "colab_type": "code",
    "id": "IMhoW0Y4qZUW",
    "outputId": "d84cf9ec-d387-4225-fb8d-a9a3375a9e08"
   },
   "outputs": [
    {
     "data": {
      "image/png": "[encoded data removed]",
      "text/plain": [
       "<Figure size 432x288 with 1 Axes>"
      ]
     },
     "metadata": {},
     "output_type": "display_data"
    },
    {
     "name": "stdout",
     "output_type": "stream",
     "text": [
      "***********************************************************\n",
      "Mean squared Error= 26.997029200764157\n",
      "Number of iterations= 10000\n"
     ]
    }
   ],
   "source": [
    "weight_sgd, bias_sgd, error_sgd=scikitlearn_sgd_regressor(alpha=0.0001, lr_rate_variation='constant', eta0=0.01, n_iter=10000)"
   ]
  },
  {
   "cell_type": "markdown",
   "metadata": {
    "colab": {},
    "colab_type": "code",
    "id": "I7Xo8MyeqZUZ",
    "outputId": "0e9845b6-5b70-48ff-a6da-72d6b2878c34"
   },
   "source": [
    "# manual sgd, n_iter=10000, lr_rate=0.01, lr_rate_variation='constant'"
   ]
  },
  {
   "cell_type": "code",
   "execution_count": 79,
   "metadata": {
    "colab": {},
    "colab_type": "code",
    "id": "-F5k84U_qZUe"
   },
   "outputs": [
    {
     "data": {
      "image/png": "[encoded data removed]",
      "text/plain": [
       "<Figure size 432x288 with 1 Axes>"
      ]
     },
     "metadata": {},
     "output_type": "display_data"
    },
    {
     "name": "stdout",
     "output_type": "stream",
     "text": [
      "error_for_sgd= 29.214265912538263\n"
     ]
    }
   ],
   "source": [
    "weight, bias= manual_sgd_regressor(X=sgd_train_data_dataframe, learning_rate_variation='constant' , n_iterations=10000)\n",
    "y_pred_manual_sgd=pred(X_test, w=weight, b=bias)\n",
    "manual_error_for_sgd=plot_(X_test,y_pred_manual_sgd)"
   ]
  },
  {
   "cell_type": "code",
   "execution_count": 81,
   "metadata": {
    "colab": {},
    "colab_type": "code",
    "id": "6F8JgKpTqZUf"
   },
   "outputs": [
    {
     "name": "stdout",
     "output_type": "stream",
     "text": [
      "wight obtained after using scikit---\n",
      " [-0.91771127  1.05242394  0.01735648  0.52288646 -1.14104175  3.07811359\n",
      " -0.16418173 -3.1620164   3.31597636 -2.11010409 -2.25130629  1.46038719\n",
      " -3.67094785]\n",
      "*********************************************************************************\n",
      "weight obtained after applying manual sgd regressor---\n",
      " [[-1.30120723  1.0734261  -0.2148398   0.00584815 -1.62845115  2.95051172\n",
      "  -0.2524181  -3.1753831   2.97618335 -2.2114788  -2.13171111  1.3080713\n",
      "  -3.33468048]]\n"
     ]
    }
   ],
   "source": [
    "print('wight obtained after using scikit---\\n',weight_sgd)\n",
    "print('*********************************************************************************')\n",
    "print('weight obtained after applying manual sgd regressor---\\n',weight)"
   ]
  },
  {
   "cell_type": "code",
   "execution_count": 82,
   "metadata": {
    "colab": {},
    "colab_type": "code",
    "id": "mDBc73iIqZUh"
   },
   "outputs": [
    {
     "name": "stdout",
     "output_type": "stream",
     "text": [
      "intercept obtained after using scikit= [23.03093048]\n",
      "intercept obtained after manually doing= [22.4901007]\n"
     ]
    }
   ],
   "source": [
    "#  absolute diffrence in intercept obtained using both manual sgd and sgd using scikit\n",
    "print('intercept obtained after using scikit=',bias_sgd)\n",
    "print('intercept obtained after manually doing=',bias)\n",
    "bias_diff.append(abs(bias_sgd-bias))"
   ]
  },
  {
   "cell_type": "code",
   "execution_count": 84,
   "metadata": {
    "colab": {},
    "colab_type": "code",
    "id": "gzmdG2mnqZUi"
   },
   "outputs": [
    {
     "name": "stdout",
     "output_type": "stream",
     "text": [
      "number of points more than 30% in percent= 3\n"
     ]
    }
   ],
   "source": [
    "#calculating the percentage weight difference between sgd with scikit nd sgd with manual operations\n",
    "percent_diff_in_weights=abs((weight_sgd-weight)/weight)*100\n",
    "cnt=0\n",
    "for i in range(13):\n",
    "    if (percent_diff_in_weights[0][i]>30):\n",
    "        cnt+=1\n",
    "weight_num.append(cnt)\n",
    "print('number of points more than 30% in percent=',cnt)"
   ]
  },
  {
   "cell_type": "markdown",
   "metadata": {
    "colab": {},
    "colab_type": "code",
    "id": "L2KbefqKqZUl"
   },
   "source": [
    "# using 'optimal' learning rate"
   ]
  },
  {
   "cell_type": "code",
   "execution_count": 85,
   "metadata": {
    "colab": {},
    "colab_type": "code",
    "id": "tzOHMo1PqZUn"
   },
   "outputs": [],
   "source": [
    "bias_optimal_diff=[]\n",
    "weight_optimal_num=[]"
   ]
  },
  {
   "cell_type": "markdown",
   "metadata": {
    "colab": {},
    "colab_type": "code",
    "id": "HPWVPSOpqZUo"
   },
   "source": [
    "# SGDRegressor, n_iter=1, lr_rate=0.01, lr_rate_variation='invscaling'"
   ]
  },
  {
   "cell_type": "code",
   "execution_count": 86,
   "metadata": {},
   "outputs": [
    {
     "data": {
      "image/png": "[encoded data removed]",
      "text/plain": [
       "<Figure size 432x288 with 1 Axes>"
      ]
     },
     "metadata": {},
     "output_type": "display_data"
    },
    {
     "name": "stdout",
     "output_type": "stream",
     "text": [
      "***********************************************************\n",
      "Mean squared Error= 99.86137464270654\n",
      "Number of iterations= 1\n"
     ]
    }
   ],
   "source": [
    "weight_sgd, bias_sgd, error_sgd=scikitlearn_sgd_regressor(alpha=0.0001, lr_rate_variation='invscaling', eta0=0.01, n_iter=1)"
   ]
  },
  {
   "cell_type": "markdown",
   "metadata": {},
   "source": [
    "# manual sgd, n_iter=1, lr_rate=0.01, lr_rate_variation='invscaling'"
   ]
  },
  {
   "cell_type": "code",
   "execution_count": 89,
   "metadata": {},
   "outputs": [
    {
     "data": {
      "image/png": "[encoded data removed]",
      "text/plain": [
       "<Figure size 432x288 with 1 Axes>"
      ]
     },
     "metadata": {},
     "output_type": "display_data"
    },
    {
     "name": "stdout",
     "output_type": "stream",
     "text": [
      "error_for_sgd= 574.3368373486402\n"
     ]
    }
   ],
   "source": [
    "weight, bias= manual_sgd_regressor(X=sgd_train_data_dataframe, learning_rate_variation='invscaling' , n_iterations=1)\n",
    "y_pred_manual_sgd=pred(X_test, w=weight, b=bias)\n",
    "manual_error_for_sgd=plot_(X_test,y_pred_manual_sgd)"
   ]
  },
  {
   "cell_type": "code",
   "execution_count": 92,
   "metadata": {},
   "outputs": [
    {
     "name": "stdout",
     "output_type": "stream",
     "text": [
      "wight obtained after using scikit---\n",
      " [-0.48396505  0.67727686 -0.61186386  0.52770865 -0.34764077  2.40797968\n",
      " -0.30668758 -0.83069037  0.0717669  -0.26378989 -1.46812312  0.69020712\n",
      " -1.90153709]\n",
      "*********************************************************************************\n",
      "weight obtained after applying manual sgd regressor---\n",
      " [[-0.06750643 -0.15350606 -0.04987269  0.28150114 -0.12634493  0.15429908\n",
      "   0.0827868  -0.00644847  0.05140051 -0.04878303  0.00176891  0.15209155\n",
      "  -0.04698766]]\n"
     ]
    }
   ],
   "source": [
    "print('wight obtained after using scikit---\\n',weight_sgd)\n",
    "print('*********************************************************************************')\n",
    "print('weight obtained after applying manual sgd regressor---\\n',weight)"
   ]
  },
  {
   "cell_type": "code",
   "execution_count": 93,
   "metadata": {},
   "outputs": [
    {
     "name": "stdout",
     "output_type": "stream",
     "text": [
      "intercept obtained after using scikit= [14.72674586]\n",
      "intercept obtained after manually doing= [0.4672]\n"
     ]
    }
   ],
   "source": [
    "#  absolute diffrence in intercept obtained using both manual sgd and sgd using scikit\n",
    "print('intercept obtained after using scikit=',bias_sgd)\n",
    "print('intercept obtained after manually doing=',bias)\n",
    "bias_diff.append(abs(bias_sgd-bias))"
   ]
  },
  {
   "cell_type": "code",
   "execution_count": 95,
   "metadata": {},
   "outputs": [
    {
     "name": "stdout",
     "output_type": "stream",
     "text": [
      "number of points more than 30% in percent= 13\n"
     ]
    }
   ],
   "source": [
    "#calculating the percentage weight difference between sgd with scikit nd sgd with manual operations\n",
    "percent_diff_in_weights=abs((weight_sgd-weight)/weight)*100\n",
    "cnt=0\n",
    "for i in range(13):\n",
    "    if (percent_diff_in_weights[0][i]>30):\n",
    "        cnt+=1\n",
    "weight_num.append(cnt)\n",
    "print('number of points more than 30% in percent=',cnt)"
   ]
  },
  {
   "cell_type": "markdown",
   "metadata": {},
   "source": [
    "# SGDRegressor, n_iter=100, lr_rate=0.01, lr_rate_variation='invscaling'"
   ]
  },
  {
   "cell_type": "code",
   "execution_count": 96,
   "metadata": {},
   "outputs": [
    {
     "data": {
      "image/png": "[encoded data removed]",
      "text/plain": [
       "<Figure size 432x288 with 1 Axes>"
      ]
     },
     "metadata": {},
     "output_type": "display_data"
    },
    {
     "name": "stdout",
     "output_type": "stream",
     "text": [
      "***********************************************************\n",
      "Mean squared Error= 28.629697811391985\n",
      "Number of iterations= 100\n"
     ]
    }
   ],
   "source": [
    "weight_sgd, bias_sgd, error_sgd=scikitlearn_sgd_regressor(alpha=0.0001, lr_rate_variation='invscaling', eta0=0.01, n_iter=100)"
   ]
  },
  {
   "cell_type": "markdown",
   "metadata": {},
   "source": [
    "# Manual sgd, n_iter=100, lr_rate=0.01, lr_rate_variation='invscaling'"
   ]
  },
  {
   "cell_type": "code",
   "execution_count": 99,
   "metadata": {},
   "outputs": [
    {
     "data": {
      "image/png": "[encoded data removed]",
      "text/plain": [
       "<Figure size 432x288 with 1 Axes>"
      ]
     },
     "metadata": {},
     "output_type": "display_data"
    },
    {
     "name": "stdout",
     "output_type": "stream",
     "text": [
      "error_for_sgd= 139.81312781530448\n"
     ]
    }
   ],
   "source": [
    "weight, bias= manual_sgd_regressor(X=sgd_train_data_dataframe, learning_rate_variation='invscaling' , n_iterations=100)\n",
    "y_pred_manual_sgd=pred(X_test, w=weight, b=bias)\n",
    "manual_error_for_sgd=plot_(X_test,y_pred_manual_sgd)"
   ]
  },
  {
   "cell_type": "code",
   "execution_count": 101,
   "metadata": {},
   "outputs": [
    {
     "name": "stdout",
     "output_type": "stream",
     "text": [
      "wight obtained after using scikit---\n",
      " [-1.3005017   0.84056704 -0.28664164  0.19626309 -1.48642048  2.797079\n",
      " -0.35597459 -2.7926607   2.6126975  -1.89765279 -2.12503894  1.06412737\n",
      " -3.32791804]\n",
      "*********************************************************************************\n",
      "weight obtained after applying manual sgd regressor---\n",
      " [[-0.4521812   0.11920627 -0.52668409 -0.17405382 -0.30067448  2.30207999\n",
      "   0.03355047 -0.57923233 -0.2713098  -0.65558895 -1.29653708  0.5537867\n",
      "  -1.82876341]]\n"
     ]
    }
   ],
   "source": [
    "print('wight obtained after using scikit---\\n',weight_sgd)\n",
    "print('*********************************************************************************')\n",
    "print('weight obtained after applying manual sgd regressor---\\n',weight)"
   ]
  },
  {
   "cell_type": "code",
   "execution_count": 103,
   "metadata": {},
   "outputs": [
    {
     "name": "stdout",
     "output_type": "stream",
     "text": [
      "intercept obtained after using scikit= [22.52740928]\n",
      "intercept obtained after manually doing= [12.83497026]\n"
     ]
    }
   ],
   "source": [
    "#  absolute diffrence in intercept obtained using both manual sgd and sgd using scikit\n",
    "print('intercept obtained after using scikit=',bias_sgd)\n",
    "print('intercept obtained after manually doing=',bias)\n",
    "bias_diff.append(abs(bias_sgd-bias))"
   ]
  },
  {
   "cell_type": "code",
   "execution_count": 104,
   "metadata": {},
   "outputs": [
    {
     "name": "stdout",
     "output_type": "stream",
     "text": [
      "number of points more than 30% in percent= 12\n"
     ]
    }
   ],
   "source": [
    "#calculating the percentage weight difference between sgd with scikit nd sgd with manual operations\n",
    "percent_diff_in_weights=abs((weight_sgd-weight)/weight)*100\n",
    "cnt=0\n",
    "for i in range(13):\n",
    "    if (percent_diff_in_weights[0][i]>30):\n",
    "        cnt+=1\n",
    "weight_num.append(cnt)\n",
    "print('number of points more than 30% in percent=',cnt)"
   ]
  },
  {
   "cell_type": "markdown",
   "metadata": {},
   "source": [
    "#  Sgd, n_iter=1000, lr_rate=0.01, lr_rate_variation='invscaling'¶"
   ]
  },
  {
   "cell_type": "code",
   "execution_count": 105,
   "metadata": {},
   "outputs": [
    {
     "data": {
      "image/png": "[encoded data removed]",
      "text/plain": [
       "<Figure size 432x288 with 1 Axes>"
      ]
     },
     "metadata": {},
     "output_type": "display_data"
    },
    {
     "name": "stdout",
     "output_type": "stream",
     "text": [
      "***********************************************************\n",
      "Mean squared Error= 28.573932668187236\n",
      "Number of iterations= 1000\n"
     ]
    }
   ],
   "source": [
    "weight_sgd, bias_sgd, error_sgd=scikitlearn_sgd_regressor(alpha=0.0001, lr_rate_variation='invscaling', eta0=0.01, n_iter=1000)"
   ]
  },
  {
   "cell_type": "markdown",
   "metadata": {},
   "source": [
    "# Manual sgd, n_iter=1000, lr_rate=0.01, lr_rate_variation='invscaling'"
   ]
  },
  {
   "cell_type": "code",
   "execution_count": 107,
   "metadata": {},
   "outputs": [
    {
     "data": {
      "image/png": "[encoded data removed]",
      "text/plain": [
       "<Figure size 432x288 with 1 Axes>"
      ]
     },
     "metadata": {},
     "output_type": "display_data"
    },
    {
     "name": "stdout",
     "output_type": "stream",
     "text": [
      "error_for_sgd= 30.482678718108343\n"
     ]
    }
   ],
   "source": [
    "weight, bias= manual_sgd_regressor(X=sgd_train_data_dataframe, learning_rate_variation='invscaling' , n_iterations=1000)\n",
    "y_pred_manual_sgd=pred(X_test, w=weight, b=bias)\n",
    "manual_error_for_sgd=plot_(X_test,y_pred_manual_sgd)"
   ]
  },
  {
   "cell_type": "code",
   "execution_count": 108,
   "metadata": {},
   "outputs": [
    {
     "name": "stdout",
     "output_type": "stream",
     "text": [
      "wight obtained after using scikit---\n",
      " [-1.31445737  0.86824319 -0.17067114  0.18726032 -1.49227296  2.78076156\n",
      " -0.33080864 -2.76630559  2.9750492  -2.2781071  -2.13455007  1.06191546\n",
      " -3.33752033]\n",
      "*********************************************************************************\n",
      "weight obtained after applying manual sgd regressor---\n",
      " [[-1.02572004  0.51588091 -0.50604512  0.16570951 -0.70126074  3.08250371\n",
      "  -0.54139148 -1.91956013  0.92890209 -0.51403276 -2.10621023  0.94595935\n",
      "  -3.21338773]]\n"
     ]
    }
   ],
   "source": [
    "print('wight obtained after using scikit---\\n',weight_sgd)\n",
    "print('*********************************************************************************')\n",
    "print('weight obtained after applying manual sgd regressor---\\n',weight)"
   ]
  },
  {
   "cell_type": "code",
   "execution_count": 109,
   "metadata": {},
   "outputs": [
    {
     "name": "stdout",
     "output_type": "stream",
     "text": [
      "intercept obtained after using scikit= [22.54452031]\n",
      "intercept obtained after manually doing= [22.35967758]\n"
     ]
    }
   ],
   "source": [
    "#  absolute diffrence in intercept obtained using both manual sgd and sgd using scikit\n",
    "print('intercept obtained after using scikit=',bias_sgd)\n",
    "print('intercept obtained after manually doing=',bias)\n",
    "bias_diff.append(abs(bias_sgd-bias))"
   ]
  },
  {
   "cell_type": "code",
   "execution_count": 110,
   "metadata": {},
   "outputs": [
    {
     "name": "stdout",
     "output_type": "stream",
     "text": [
      "number of points more than 30% in percent= 7\n"
     ]
    }
   ],
   "source": [
    "#calculating the percentage weight difference between sgd with scikit nd sgd with manual operations\n",
    "percent_diff_in_weights=abs((weight_sgd-weight)/weight)*100\n",
    "cnt=0\n",
    "for i in range(13):\n",
    "    if (percent_diff_in_weights[0][i]>30):\n",
    "        cnt+=1\n",
    "weight_num.append(cnt)\n",
    "print('number of points more than 30% in percent=',cnt)"
   ]
  },
  {
   "cell_type": "code",
   "execution_count": 117,
   "metadata": {},
   "outputs": [
    {
     "name": "stdout",
     "output_type": "stream",
     "text": [
      "+-----+--------------------+--------+-------------------+--------------+---------+--------+--------------------+\n",
      "| sno |        algo        | alpha  | lr_rate_variation | init_lr_rate | power_t | n_iter |       error        |\n",
      "+-----+--------------------+--------+-------------------+--------------+---------+--------+--------------------+\n",
      "|  1  | ScikitSGDRegressor | 0.0001 |      constant     |     0.01     |   0.25  |   1    | 28.573932668187236 |\n",
      "|  2  |     manual_sgd     | 0.0001 |      constant     |     0.01     |   0.25  |   1    | 45.355148417293364 |\n",
      "|  3  | ScikitSGDRegressor | 0.0001 |      constant     |     0.01     |   0.25  |  100   | 28.573932668187236 |\n",
      "|  4  |     manual_sgd     | 0.0001 |      constant     |     0.01     |   0.25  |  100   | 45.355148417293364 |\n",
      "|  5  | ScikitSGDRegressor | 0.0001 |      constant     |     0.01     |   0.25  |  1000  | 28.573932668187236 |\n",
      "|  6  |     manual_sgd     | 0.0001 |      constant     |     0.01     |   0.25  |  1000  | 45.355148417293364 |\n",
      "|  7  | ScikitSGDRegressor | 0.0001 |      constant     |     0.01     |   0.25  | 10000  | 28.573932668187236 |\n",
      "|  8  |    SGDRegressor    | 0.0001 |      constant     |     0.01     |   0.25  | 10000  | 28.573932668187236 |\n",
      "+-----+--------------------+--------+-------------------+--------------+---------+--------+--------------------+\n"
     ]
    }
   ],
   "source": [
    "# http://zetcode.com/python/prettytable/\n",
    "from prettytable import PrettyTable\n",
    "\n",
    "#If you get a ModuleNotFoundError error , install prettytable using: pip3 install prettytable\n",
    "\n",
    "x = PrettyTable()\n",
    "x.field_names = [\"sno\",\"algo\",\"alpha\",\"lr_rate_variation\",\"init_lr_rate\",\"power_t\",\"n_iter\",\"error\"  ]\n",
    "x.add_row([1, 'ScikitSGDRegressor', 0.0001, 'constant', 0.01, 0.25, 1, error_sgd ])\n",
    "x.add_row([2, 'manual_sgd', 0.0001, 'constant', 0.01, 0.25, 1, manual_error ])\n",
    "x.add_row([3, 'ScikitSGDRegressor', 0.0001, 'constant', 0.01, 0.25, 100, error_sgd])\n",
    "x.add_row([4, 'manual_sgd', 0.0001, 'constant', 0.01, 0.25, 100, manual_error])\n",
    "x.add_row([5, 'ScikitSGDRegressor', 0.0001, 'constant', 0.01, 0.25, 1000, error_sgd])\n",
    "x.add_row([6, 'manual_sgd', 0.0001, 'constant', 0.01, 0.25, 1000, manual_error])\n",
    "x.add_row([7, 'ScikitSGDRegressor', 0.0001, 'constant', 0.01, 0.25, 10000, error_sgd])\n",
    "x.add_row([8, 'SGDRegressor', 0.0001, 'constant', 0.01, 0.25, 10000, error_sgd])                 \n",
    "print(x)"
   ]
  },
  {
   "cell_type": "code",
   "execution_count": 118,
   "metadata": {},
   "outputs": [
    {
     "name": "stdout",
     "output_type": "stream",
     "text": [
      "+-----+--------------------+--------+-------------------+--------------+---------+--------+--------------------+\n",
      "| sno |        algo        | alpha  | lr_rate_variation | init_lr_rate | power_t | n_iter |       error        |\n",
      "+-----+--------------------+--------+-------------------+--------------+---------+--------+--------------------+\n",
      "|  1  | ScikitSGDRegressor | 0.0001 |     invscaling    |     0.01     |   0.25  |   1    | 28.573932668187236 |\n",
      "|  2  |     manual_sgd     | 0.0001 |     invscaling    |     0.01     |   0.25  |   1    | 45.355148417293364 |\n",
      "|  3  | ScikitSGDRegressor | 0.0001 |     invscaling    |     0.01     |   0.25  |  100   | 28.573932668187236 |\n",
      "|  4  |     manual sgd     | 0.0001 |     invscaling    |     0.01     |   0.25  |  100   | 45.355148417293364 |\n",
      "|  5  | ScikitSGDRegressor | 0.0001 |     invscaling    |     0.01     |   0.25  |  1000  | 28.573932668187236 |\n",
      "|  6  |     manual_sgd     | 0.0001 |     invscaling    |     0.01     |   0.25  |  1000  | 45.355148417293364 |\n",
      "|  7  | ScikitSGDRegressor | 0.0001 |     invscaling    |     0.01     |   0.25  |  1000  | 28.573932668187236 |\n",
      "|  8  |     manual_sgd     | 0.0001 |     invscaling    |     0.01     |   0.25  |  1000  | 45.355148417293364 |\n",
      "+-----+--------------------+--------+-------------------+--------------+---------+--------+--------------------+\n"
     ]
    }
   ],
   "source": [
    "# http://zetcode.com/python/prettytable/\n",
    "from prettytable import PrettyTable\n",
    "\n",
    "#If you get a ModuleNotFoundError error , install prettytable using: pip3 install prettytable\n",
    "\n",
    "x = PrettyTable()\n",
    "x.field_names = [\"sno\",\"algo\",\"alpha\",\"lr_rate_variation\",\"init_lr_rate\",\"power_t\",\"n_iter\",\"error\"  ]\n",
    "x.add_row([1, 'ScikitSGDRegressor', 0.0001, 'invscaling', 0.01, 0.25, 1, error_sgd ])\n",
    "x.add_row([2, 'manual_sgd', 0.0001, 'invscaling', 0.01, 0.25, 1, manual_error ])\n",
    "x.add_row([3, 'ScikitSGDRegressor', 0.0001, 'invscaling', 0.01, 0.25, 100, error_sgd])\n",
    "x.add_row([4, 'manual sgd', 0.0001, 'invscaling', 0.01, 0.25, 100, manual_error])\n",
    "x.add_row([5, 'ScikitSGDRegressor', 0.0001, 'invscaling', 0.01, 0.25, 1000, error_sgd])\n",
    "x.add_row([6, 'manual_sgd', 0.0001, 'invscaling', 0.01, 0.25, 1000, manual_error])\n",
    "x.add_row([7, 'ScikitSGDRegressor', 0.0001, 'invscaling', 0.01, 0.25, 1000, error_sgd])\n",
    "x.add_row([8, 'manual_sgd', 0.0001, 'invscaling', 0.01, 0.25, 1000, manual_error])                 \n",
    "print(x)"
   ]
  }
 ],
 "metadata": {
  "colab": {
   "collapsed_sections": [
    "6ZUee5ASqZT1",
    "8v6QCrgwqZT8",
    "tNBHnbgxqZT9",
    "9VOyOJzGqZUB",
    "4R4mYLA0qZUD",
    "bbeLjr3FqZUJ"
   ],
   "name": "10_DonorsChoose_Clustering.ipynb",
   "provenance": [],
   "version": "0.3.2"
  },
  "kernelspec": {
   "display_name": "Python 3",
   "language": "python",
   "name": "python3"
  },
  "language_info": {
   "codemirror_mode": {
    "name": "ipython",
    "version": 3
   },
   "file_extension": ".py",
   "mimetype": "text/x-python",
   "name": "python",
   "nbconvert_exporter": "python",
   "pygments_lexer": "ipython3",
   "version": "3.6.5"
  }
 },
 "nbformat": 4,
 "nbformat_minor": 1
}
